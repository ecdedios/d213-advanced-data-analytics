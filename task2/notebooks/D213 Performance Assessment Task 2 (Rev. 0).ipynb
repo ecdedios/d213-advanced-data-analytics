{
 "cells": [
  {
   "cell_type": "markdown",
   "id": "7a227c3f-477f-413d-aca9-ad7df9396540",
   "metadata": {},
   "source": [
    "### WGU D213 Advanced Data Analytics\n",
    "# Task 2 - Sentiment Analysis Using Neural Networks\n",
    "\n",
    "#### Ednalyn C. De Dios\n",
    "#### August 27, 2023\n",
    "\n",
    "\n",
    "# Environment\n",
    "\n",
    "- Python: 3.9.9\n",
    "- Jupyter: 7.0.2\n",
    "\n",
    "# Part I. Research Question\n",
    "\n",
    "## A1.  Summarize one research question that you will answer using neural network models and NLP techniques. Be sure the research question is relevant to a real-world organizational situation and sentiment analysis captured in your chosen data set(s).\n",
    "\n",
    "> ### _Can we predict the sentiment of a comment using previous comments?_\n",
    "\n",
    "## A2. Define the objectives or goals of the data analysis. Be sure the objectives or goals are reasonable within the scope of the research question and are represented in the available data.\n",
    "\n",
    "The objective of this analysis is to build and train a model that can predict whether a comment is favorable or not.\n",
    "\n",
    "## A3. Identify a type of neural network capable of performing a text classification task that can be trained to produce useful predictions on text sequences on the selected data set.\n",
    "\n",
    "For this analysis, we will use a special kind of Recurrent Neural Networks (RNN) called Long Short-Term Memory or LSTM."
   ]
  },
  {
   "cell_type": "code",
   "execution_count": 1,
   "id": "258c38c9-46a9-461d-93f8-bf01e309d15f",
   "metadata": {},
   "outputs": [
    {
     "name": "stderr",
     "output_type": "stream",
     "text": [
      "[nltk_data] Downloading package stopwords to\n",
      "[nltk_data]     C:\\Users\\Dd\\AppData\\Roaming\\nltk_data...\n",
      "[nltk_data]   Package stopwords is already up-to-date!\n",
      "[nltk_data] Downloading package wordnet to\n",
      "[nltk_data]     C:\\Users\\Dd\\AppData\\Roaming\\nltk_data...\n",
      "[nltk_data]   Package wordnet is already up-to-date!\n"
     ]
    }
   ],
   "source": [
    "# setting the random seed for reproducibility\n",
    "import random\n",
    "random.seed(493)\n",
    "\n",
    "# for manipulating dataframes\n",
    "import pandas as pd\n",
    "import numpy as np\n",
    "\n",
    "# natural language processing\n",
    "import re\n",
    "import unicodedata\n",
    "import nltk\n",
    "nltk.download('stopwords')\n",
    "nltk.download('wordnet')\n",
    "from nltk.corpus import stopwords\n",
    "from collections import Counter\n",
    "from sklearn.model_selection import train_test_split\n",
    "import tensorflow as tf\n",
    "from tensorflow.keras.preprocessing.sequence import pad_sequences\n",
    "from tensorflow.keras.preprocessing.text import Tokenizer\n",
    "from keras.layers import Dense\n",
    "from keras.layers import LSTM\n",
    "from keras.layers import Dropout\n",
    "\n",
    "# for visualizations\n",
    "%matplotlib inline\n",
    "import matplotlib.pyplot as plt\n",
    "import seaborn as sns\n",
    "sns.set(style=\"whitegrid\")\n",
    "\n",
    "# to print out all the outputs\n",
    "from IPython.core.interactiveshell import InteractiveShell\n",
    "InteractiveShell.ast_node_interactivity = \"all\"\n",
    "\n",
    "# set display options\n",
    "pd.set_option('display.max_columns', None)\n",
    "pd.set_option('display.max_rows', None)\n",
    "pd.set_option('display.max_colwidth', None)"
   ]
  },
  {
   "cell_type": "code",
   "execution_count": 2,
   "id": "cbf4a8b4-1f0c-4a62-9a4f-0fc8bea4c219",
   "metadata": {},
   "outputs": [],
   "source": [
    "# read tsv data\n",
    "colnames=['text', 'label'] \n",
    "df_amazon = pd.read_csv('../data/amazon_cells_labelled.txt', sep='\\t', names=colnames, header=None)\n",
    "df_imdb = pd.read_csv('../data/imdb_labelled.txt', sep='\\t', names=colnames, header=None)\n",
    "df_yelp = pd.read_csv('../data/yelp_labelled.txt', sep='\\t', names=colnames, header=None)\n",
    "df = pd.concat([df_amazon, df_imdb, df_yelp])\n",
    "df = df.reset_index(drop=True)"
   ]
  },
  {
   "cell_type": "code",
   "execution_count": 3,
   "id": "e64a040b-e469-4583-84ec-7dd3b175108a",
   "metadata": {},
   "outputs": [
    {
     "data": {
      "text/plain": [
       "(2748, 2)"
      ]
     },
     "execution_count": 3,
     "metadata": {},
     "output_type": "execute_result"
    }
   ],
   "source": [
    "df.shape"
   ]
  },
  {
   "cell_type": "code",
   "execution_count": 4,
   "id": "b86c8e66-7cae-4118-bceb-dbcacad0d6d3",
   "metadata": {},
   "outputs": [
    {
     "data": {
      "text/html": [
       "<div>\n",
       "<style scoped>\n",
       "    .dataframe tbody tr th:only-of-type {\n",
       "        vertical-align: middle;\n",
       "    }\n",
       "\n",
       "    .dataframe tbody tr th {\n",
       "        vertical-align: top;\n",
       "    }\n",
       "\n",
       "    .dataframe thead th {\n",
       "        text-align: right;\n",
       "    }\n",
       "</style>\n",
       "<table border=\"1\" class=\"dataframe\">\n",
       "  <thead>\n",
       "    <tr style=\"text-align: right;\">\n",
       "      <th></th>\n",
       "      <th>text</th>\n",
       "      <th>label</th>\n",
       "    </tr>\n",
       "  </thead>\n",
       "  <tbody>\n",
       "    <tr>\n",
       "      <th>0</th>\n",
       "      <td>So there is no way for me to plug it in here in the US unless I go by a converter.</td>\n",
       "      <td>0</td>\n",
       "    </tr>\n",
       "    <tr>\n",
       "      <th>1</th>\n",
       "      <td>Good case, Excellent value.</td>\n",
       "      <td>1</td>\n",
       "    </tr>\n",
       "    <tr>\n",
       "      <th>2</th>\n",
       "      <td>Great for the jawbone.</td>\n",
       "      <td>1</td>\n",
       "    </tr>\n",
       "    <tr>\n",
       "      <th>3</th>\n",
       "      <td>Tied to charger for conversations lasting more than 45 minutes.MAJOR PROBLEMS!!</td>\n",
       "      <td>0</td>\n",
       "    </tr>\n",
       "    <tr>\n",
       "      <th>4</th>\n",
       "      <td>The mic is great.</td>\n",
       "      <td>1</td>\n",
       "    </tr>\n",
       "  </tbody>\n",
       "</table>\n",
       "</div>"
      ],
      "text/plain": [
       "                                                                                 text  \\\n",
       "0  So there is no way for me to plug it in here in the US unless I go by a converter.   \n",
       "1                                                         Good case, Excellent value.   \n",
       "2                                                              Great for the jawbone.   \n",
       "3     Tied to charger for conversations lasting more than 45 minutes.MAJOR PROBLEMS!!   \n",
       "4                                                                   The mic is great.   \n",
       "\n",
       "   label  \n",
       "0      0  \n",
       "1      1  \n",
       "2      1  \n",
       "3      0  \n",
       "4      1  "
      ]
     },
     "execution_count": 4,
     "metadata": {},
     "output_type": "execute_result"
    },
    {
     "data": {
      "text/html": [
       "<div>\n",
       "<style scoped>\n",
       "    .dataframe tbody tr th:only-of-type {\n",
       "        vertical-align: middle;\n",
       "    }\n",
       "\n",
       "    .dataframe tbody tr th {\n",
       "        vertical-align: top;\n",
       "    }\n",
       "\n",
       "    .dataframe thead th {\n",
       "        text-align: right;\n",
       "    }\n",
       "</style>\n",
       "<table border=\"1\" class=\"dataframe\">\n",
       "  <thead>\n",
       "    <tr style=\"text-align: right;\">\n",
       "      <th></th>\n",
       "      <th>text</th>\n",
       "      <th>label</th>\n",
       "    </tr>\n",
       "  </thead>\n",
       "  <tbody>\n",
       "    <tr>\n",
       "      <th>2743</th>\n",
       "      <td>I think food should have flavor and texture and both were lacking.</td>\n",
       "      <td>0</td>\n",
       "    </tr>\n",
       "    <tr>\n",
       "      <th>2744</th>\n",
       "      <td>Appetite instantly gone.</td>\n",
       "      <td>0</td>\n",
       "    </tr>\n",
       "    <tr>\n",
       "      <th>2745</th>\n",
       "      <td>Overall I was not impressed and would not go back.</td>\n",
       "      <td>0</td>\n",
       "    </tr>\n",
       "    <tr>\n",
       "      <th>2746</th>\n",
       "      <td>The whole experience was underwhelming, and I think we'll just go to Ninja Sushi next time.</td>\n",
       "      <td>0</td>\n",
       "    </tr>\n",
       "    <tr>\n",
       "      <th>2747</th>\n",
       "      <td>Then, as if I hadn't wasted enough of my life there, they poured salt in the wound by drawing out the time it took to bring the check.</td>\n",
       "      <td>0</td>\n",
       "    </tr>\n",
       "  </tbody>\n",
       "</table>\n",
       "</div>"
      ],
      "text/plain": [
       "                                                                                                                                        text  \\\n",
       "2743                                                                      I think food should have flavor and texture and both were lacking.   \n",
       "2744                                                                                                                Appetite instantly gone.   \n",
       "2745                                                                                      Overall I was not impressed and would not go back.   \n",
       "2746                                             The whole experience was underwhelming, and I think we'll just go to Ninja Sushi next time.   \n",
       "2747  Then, as if I hadn't wasted enough of my life there, they poured salt in the wound by drawing out the time it took to bring the check.   \n",
       "\n",
       "      label  \n",
       "2743      0  \n",
       "2744      0  \n",
       "2745      0  \n",
       "2746      0  \n",
       "2747      0  "
      ]
     },
     "execution_count": 4,
     "metadata": {},
     "output_type": "execute_result"
    }
   ],
   "source": [
    "df.head()\n",
    "df.tail()"
   ]
  },
  {
   "cell_type": "markdown",
   "id": "529e52b2-26c4-4f6c-9a17-f8fd953919d2",
   "metadata": {},
   "source": [
    "# Part II. Data Preparation\n",
    "\n",
    "## B1.  Perform exploratory data analysis on the chosen data set, and include an explanation of each of the following elements:\n",
    "\n",
    "- presence of unusual characters (e.g., emojis, non-English characters) - **We used regex to see if there are any non-english characters in the data set.**\n",
    "- vocabulary size - **The vocabulary size is 4967. The value_counts() method was used to count the vocabulary size. Note this is done after removing stop words first.**\n",
    "- proposed word embedding length - **The proposed word embedding length is 8 and has been derived from taking the square root of the square root of the vocabulary size.**\n",
    "- statistical justification for the chosen maximum sequence length - **The mean of the list of lengths for each sentence was used to calculate the maximum sequence length.**"
   ]
  },
  {
   "cell_type": "code",
   "execution_count": 5,
   "id": "98389d01-25bc-4c5b-bb8e-416e97470d31",
   "metadata": {},
   "outputs": [],
   "source": [
    "def isEnglish(c):\n",
    "    try:\n",
    "        c.encode(encoding='utf-8').decode('ascii')\n",
    "    except UnicodeDecodeError:\n",
    "        return False\n",
    "    else:\n",
    "        return True"
   ]
  },
  {
   "cell_type": "code",
   "execution_count": 6,
   "id": "7bb19f30-2550-41d0-8e78-10a1927b448b",
   "metadata": {},
   "outputs": [
    {
     "data": {
      "text/plain": [
       "['\\x96', 'é', '\\x85', '\\x96', 'é', 'é', 'å', '\\x96', '\\x97', '\\x96']"
      ]
     },
     "execution_count": 6,
     "metadata": {},
     "output_type": "execute_result"
    }
   ],
   "source": [
    "non_english = []\n",
    "for index, row in df.iterrows():\n",
    "    for l in list(row['text']):\n",
    "        for c in l:\n",
    "            if isEnglish(c) == True:\n",
    "                pass\n",
    "            else:\n",
    "                non_english.append(c)\n",
    "non_english[:10]"
   ]
  },
  {
   "cell_type": "code",
   "execution_count": 7,
   "id": "54e5f2bc-7e35-48f2-a53a-8adef7aebfae",
   "metadata": {},
   "outputs": [],
   "source": [
    "ADDITIONAL_STOPWORDS = []\n",
    "\n",
    "def clean_sentence(sentence):\n",
    "    wnl = nltk.stem.WordNetLemmatizer()\n",
    "    stopwords = nltk.corpus.stopwords.words('english') + ADDITIONAL_STOPWORDS\n",
    "    sentence = (unicodedata.normalize('NFKD', sentence)\n",
    "        .encode('ascii', 'ignore')\n",
    "        .decode('utf-8', 'ignore')\n",
    "        .lower())\n",
    "    words = re.sub(r'[^\\w\\s]', '', sentence).split()\n",
    "    word_list = [wnl.lemmatize(word) for word in words if word not in stopwords]\n",
    "    return word_list"
   ]
  },
  {
   "cell_type": "code",
   "execution_count": 8,
   "id": "5447fd59-22e3-49af-b533-6d0a09713419",
   "metadata": {},
   "outputs": [],
   "source": [
    "def get_words(df, column):\n",
    "    \"\"\"\n",
    "    Takes a dataframe and a column and returns a list of\n",
    "    cleaned words that is returned by clean().\n",
    "\n",
    "            Parameters:\n",
    "                    df (dataframe): A pandas dataframe\n",
    "                    column (series): A pandas series\n",
    "\n",
    "            Returns:\n",
    "                    word_list (list): A list of cleaned words\n",
    "    \"\"\"\n",
    "    return clean_sentence(''.join(str(df[column].tolist())))"
   ]
  },
  {
   "cell_type": "code",
   "execution_count": 9,
   "id": "08d9887d-756d-4763-ad0a-6c2cd3a6500d",
   "metadata": {},
   "outputs": [],
   "source": [
    "df_csat =  df.loc[df['label'] == 1]\n",
    "df_dsat =  df.loc[df['label'] == 0]"
   ]
  },
  {
   "cell_type": "code",
   "execution_count": 10,
   "id": "7532dc4d-b0b1-46c0-a394-326b51982394",
   "metadata": {},
   "outputs": [],
   "source": [
    "all_words = get_words(df, 'text')\n",
    "csat_words = get_words(df_csat, 'text')\n",
    "dsat_words = get_words(df_dsat, 'text')"
   ]
  },
  {
   "cell_type": "code",
   "execution_count": 11,
   "id": "c5e15777-4816-48d0-90a6-0e38aba453dd",
   "metadata": {},
   "outputs": [],
   "source": [
    "csat_freq = pd.Series(csat_words).value_counts()\n",
    "dsat_freq = pd.Series(dsat_words).value_counts()\n",
    "all_freq = pd.Series(all_words).value_counts()"
   ]
  },
  {
   "cell_type": "code",
   "execution_count": 12,
   "id": "5ac06318-acf6-4b9b-99e1-e67cff0bf7fa",
   "metadata": {},
   "outputs": [
    {
     "name": "stdout",
     "output_type": "stream",
     "text": [
      "Vocabulary size: 4967\n"
     ]
    }
   ],
   "source": [
    "vocab_size = len(all_freq)\n",
    "print('Vocabulary size: ' + str(vocab_size))"
   ]
  },
  {
   "cell_type": "code",
   "execution_count": 13,
   "id": "1495bda1-6c1e-4eef-bae9-36773f83931c",
   "metadata": {},
   "outputs": [
    {
     "data": {
      "text/html": [
       "<div>\n",
       "<style scoped>\n",
       "    .dataframe tbody tr th:only-of-type {\n",
       "        vertical-align: middle;\n",
       "    }\n",
       "\n",
       "    .dataframe tbody tr th {\n",
       "        vertical-align: top;\n",
       "    }\n",
       "\n",
       "    .dataframe thead th {\n",
       "        text-align: right;\n",
       "    }\n",
       "</style>\n",
       "<table border=\"1\" class=\"dataframe\">\n",
       "  <thead>\n",
       "    <tr style=\"text-align: right;\">\n",
       "      <th></th>\n",
       "      <th>num_missing</th>\n",
       "      <th>missing_percentage</th>\n",
       "      <th>num_empty</th>\n",
       "      <th>empty_percentage</th>\n",
       "      <th>nan_count</th>\n",
       "      <th>nan_percentage</th>\n",
       "    </tr>\n",
       "  </thead>\n",
       "  <tbody>\n",
       "    <tr>\n",
       "      <th>text</th>\n",
       "      <td>0</td>\n",
       "      <td>0.0</td>\n",
       "      <td>0</td>\n",
       "      <td>0.0</td>\n",
       "      <td>0</td>\n",
       "      <td>0.0</td>\n",
       "    </tr>\n",
       "    <tr>\n",
       "      <th>label</th>\n",
       "      <td>0</td>\n",
       "      <td>0.0</td>\n",
       "      <td>0</td>\n",
       "      <td>0.0</td>\n",
       "      <td>0</td>\n",
       "      <td>0.0</td>\n",
       "    </tr>\n",
       "  </tbody>\n",
       "</table>\n",
       "</div>"
      ],
      "text/plain": [
       "       num_missing  missing_percentage  num_empty  empty_percentage  \\\n",
       "text             0                 0.0          0               0.0   \n",
       "label            0                 0.0          0               0.0   \n",
       "\n",
       "       nan_count  nan_percentage  \n",
       "text           0             0.0  \n",
       "label          0             0.0  "
      ]
     },
     "execution_count": 13,
     "metadata": {},
     "output_type": "execute_result"
    }
   ],
   "source": [
    "def show_missing(df):\n",
    "    \"\"\"\n",
    "    Takes a dataframe and returns a dataframe with stats\n",
    "    on missing and null values with their percentages.\n",
    "    \"\"\"\n",
    "    null_count = df.isnull().sum()\n",
    "    null_percentage = (null_count / df.shape[0]) * 100\n",
    "    empty_count = pd.Series(((df == ' ') | (df == '')).sum())\n",
    "    empty_percentage = (empty_count / df.shape[0]) * 100\n",
    "    nan_count = pd.Series(((df == 'nan') | (df == 'NaN')).sum())\n",
    "    nan_percentage = (nan_count / df.shape[0]) * 100\n",
    "    dfx = pd.DataFrame({'num_missing': null_count, 'missing_percentage': null_percentage,\n",
    "                         'num_empty': empty_count, 'empty_percentage': empty_percentage,\n",
    "                         'nan_count': nan_count, 'nan_percentage': nan_percentage})\n",
    "    return dfx\n",
    "\n",
    "show_missing(df)"
   ]
  },
  {
   "cell_type": "code",
   "execution_count": 14,
   "id": "a1f5d29f-e327-4dbc-9bb8-30b8f4044e27",
   "metadata": {},
   "outputs": [
    {
     "data": {
      "text/html": [
       "<div>\n",
       "<style scoped>\n",
       "    .dataframe tbody tr th:only-of-type {\n",
       "        vertical-align: middle;\n",
       "    }\n",
       "\n",
       "    .dataframe tbody tr th {\n",
       "        vertical-align: top;\n",
       "    }\n",
       "\n",
       "    .dataframe thead th {\n",
       "        text-align: right;\n",
       "    }\n",
       "</style>\n",
       "<table border=\"1\" class=\"dataframe\">\n",
       "  <thead>\n",
       "    <tr style=\"text-align: right;\">\n",
       "      <th></th>\n",
       "      <th>all</th>\n",
       "      <th>csat</th>\n",
       "      <th>dsat</th>\n",
       "    </tr>\n",
       "  </thead>\n",
       "  <tbody>\n",
       "    <tr>\n",
       "      <th>good</th>\n",
       "      <td>226</td>\n",
       "      <td>170</td>\n",
       "      <td>56</td>\n",
       "    </tr>\n",
       "    <tr>\n",
       "      <th>movie</th>\n",
       "      <td>208</td>\n",
       "      <td>101</td>\n",
       "      <td>107</td>\n",
       "    </tr>\n",
       "    <tr>\n",
       "      <th>great</th>\n",
       "      <td>205</td>\n",
       "      <td>188</td>\n",
       "      <td>17</td>\n",
       "    </tr>\n",
       "    <tr>\n",
       "      <th>film</th>\n",
       "      <td>182</td>\n",
       "      <td>96</td>\n",
       "      <td>86</td>\n",
       "    </tr>\n",
       "    <tr>\n",
       "      <th>phone</th>\n",
       "      <td>173</td>\n",
       "      <td>91</td>\n",
       "      <td>82</td>\n",
       "    </tr>\n",
       "    <tr>\n",
       "      <th>one</th>\n",
       "      <td>145</td>\n",
       "      <td>69</td>\n",
       "      <td>76</td>\n",
       "    </tr>\n",
       "    <tr>\n",
       "      <th>time</th>\n",
       "      <td>133</td>\n",
       "      <td>57</td>\n",
       "      <td>76</td>\n",
       "    </tr>\n",
       "    <tr>\n",
       "      <th>like</th>\n",
       "      <td>127</td>\n",
       "      <td>61</td>\n",
       "      <td>66</td>\n",
       "    </tr>\n",
       "    <tr>\n",
       "      <th>food</th>\n",
       "      <td>125</td>\n",
       "      <td>60</td>\n",
       "      <td>65</td>\n",
       "    </tr>\n",
       "    <tr>\n",
       "      <th>place</th>\n",
       "      <td>123</td>\n",
       "      <td>62</td>\n",
       "      <td>61</td>\n",
       "    </tr>\n",
       "  </tbody>\n",
       "</table>\n",
       "</div>"
      ],
      "text/plain": [
       "       all  csat  dsat\n",
       "good   226   170    56\n",
       "movie  208   101   107\n",
       "great  205   188    17\n",
       "film   182    96    86\n",
       "phone  173    91    82\n",
       "one    145    69    76\n",
       "time   133    57    76\n",
       "like   127    61    66\n",
       "food   125    60    65\n",
       "place  123    62    61"
      ]
     },
     "execution_count": 14,
     "metadata": {},
     "output_type": "execute_result"
    }
   ],
   "source": [
    "word_counts = (pd.concat([all_freq, csat_freq, dsat_freq], axis=1, sort=True)\n",
    "                .set_axis(['all', 'csat', 'dsat'], axis=1)\n",
    "                .fillna(0)\n",
    "                .apply(lambda s: s.astype(int)))\n",
    "\n",
    "# What are the most frequently occuring words?\n",
    "word_counts.sort_values(by='all', ascending=False).head(10)"
   ]
  },
  {
   "cell_type": "code",
   "execution_count": 15,
   "id": "1229d774-4e02-4e33-9952-c40855d607b5",
   "metadata": {},
   "outputs": [
    {
     "data": {
      "text/html": [
       "<div>\n",
       "<style scoped>\n",
       "    .dataframe tbody tr th:only-of-type {\n",
       "        vertical-align: middle;\n",
       "    }\n",
       "\n",
       "    .dataframe tbody tr th {\n",
       "        vertical-align: top;\n",
       "    }\n",
       "\n",
       "    .dataframe thead th {\n",
       "        text-align: right;\n",
       "    }\n",
       "</style>\n",
       "<table border=\"1\" class=\"dataframe\">\n",
       "  <thead>\n",
       "    <tr style=\"text-align: right;\">\n",
       "      <th></th>\n",
       "      <th>all</th>\n",
       "      <th>csat</th>\n",
       "      <th>dsat</th>\n",
       "    </tr>\n",
       "  </thead>\n",
       "  <tbody>\n",
       "    <tr>\n",
       "      <th>priced</th>\n",
       "      <td>7</td>\n",
       "      <td>7</td>\n",
       "      <td>0</td>\n",
       "    </tr>\n",
       "    <tr>\n",
       "      <th>town</th>\n",
       "      <td>7</td>\n",
       "      <td>7</td>\n",
       "      <td>0</td>\n",
       "    </tr>\n",
       "    <tr>\n",
       "      <th>joy</th>\n",
       "      <td>7</td>\n",
       "      <td>7</td>\n",
       "      <td>0</td>\n",
       "    </tr>\n",
       "    <tr>\n",
       "      <th>superb</th>\n",
       "      <td>7</td>\n",
       "      <td>7</td>\n",
       "      <td>0</td>\n",
       "    </tr>\n",
       "    <tr>\n",
       "      <th>brilliant</th>\n",
       "      <td>7</td>\n",
       "      <td>7</td>\n",
       "      <td>0</td>\n",
       "    </tr>\n",
       "    <tr>\n",
       "      <th>role</th>\n",
       "      <td>9</td>\n",
       "      <td>9</td>\n",
       "      <td>0</td>\n",
       "    </tr>\n",
       "    <tr>\n",
       "      <th>pleased</th>\n",
       "      <td>10</td>\n",
       "      <td>10</td>\n",
       "      <td>0</td>\n",
       "    </tr>\n",
       "    <tr>\n",
       "      <th>interesting</th>\n",
       "      <td>15</td>\n",
       "      <td>15</td>\n",
       "      <td>0</td>\n",
       "    </tr>\n",
       "    <tr>\n",
       "      <th>fantastic</th>\n",
       "      <td>18</td>\n",
       "      <td>18</td>\n",
       "      <td>0</td>\n",
       "    </tr>\n",
       "    <tr>\n",
       "      <th>delicious</th>\n",
       "      <td>23</td>\n",
       "      <td>23</td>\n",
       "      <td>0</td>\n",
       "    </tr>\n",
       "    <tr>\n",
       "      <th>unit</th>\n",
       "      <td>9</td>\n",
       "      <td>0</td>\n",
       "      <td>9</td>\n",
       "    </tr>\n",
       "    <tr>\n",
       "      <th>wasted</th>\n",
       "      <td>10</td>\n",
       "      <td>0</td>\n",
       "      <td>10</td>\n",
       "    </tr>\n",
       "    <tr>\n",
       "      <th>waited</th>\n",
       "      <td>10</td>\n",
       "      <td>0</td>\n",
       "      <td>10</td>\n",
       "    </tr>\n",
       "    <tr>\n",
       "      <th>unfortunately</th>\n",
       "      <td>11</td>\n",
       "      <td>0</td>\n",
       "      <td>11</td>\n",
       "    </tr>\n",
       "    <tr>\n",
       "      <th>mediocre</th>\n",
       "      <td>11</td>\n",
       "      <td>0</td>\n",
       "      <td>11</td>\n",
       "    </tr>\n",
       "    <tr>\n",
       "      <th>disappointment</th>\n",
       "      <td>11</td>\n",
       "      <td>0</td>\n",
       "      <td>11</td>\n",
       "    </tr>\n",
       "    <tr>\n",
       "      <th>sucked</th>\n",
       "      <td>11</td>\n",
       "      <td>0</td>\n",
       "      <td>11</td>\n",
       "    </tr>\n",
       "    <tr>\n",
       "      <th>disappointing</th>\n",
       "      <td>12</td>\n",
       "      <td>0</td>\n",
       "      <td>12</td>\n",
       "    </tr>\n",
       "    <tr>\n",
       "      <th>bland</th>\n",
       "      <td>13</td>\n",
       "      <td>0</td>\n",
       "      <td>13</td>\n",
       "    </tr>\n",
       "    <tr>\n",
       "      <th>poor</th>\n",
       "      <td>27</td>\n",
       "      <td>0</td>\n",
       "      <td>27</td>\n",
       "    </tr>\n",
       "  </tbody>\n",
       "</table>\n",
       "</div>"
      ],
      "text/plain": [
       "                all  csat  dsat\n",
       "priced            7     7     0\n",
       "town              7     7     0\n",
       "joy               7     7     0\n",
       "superb            7     7     0\n",
       "brilliant         7     7     0\n",
       "role              9     9     0\n",
       "pleased          10    10     0\n",
       "interesting      15    15     0\n",
       "fantastic        18    18     0\n",
       "delicious        23    23     0\n",
       "unit              9     0     9\n",
       "wasted           10     0    10\n",
       "waited           10     0    10\n",
       "unfortunately    11     0    11\n",
       "mediocre         11     0    11\n",
       "disappointment   11     0    11\n",
       "sucked           11     0    11\n",
       "disappointing    12     0    12\n",
       "bland            13     0    13\n",
       "poor             27     0    27"
      ]
     },
     "execution_count": 15,
     "metadata": {},
     "output_type": "execute_result"
    }
   ],
   "source": [
    "# Are there any words that uniquely identify a dsat or csat comment?\n",
    "pd.concat([word_counts[word_counts.dsat == 0].sort_values(by='csat').tail(10),\n",
    "           word_counts[word_counts.csat == 0].sort_values(by='dsat').tail(10)])"
   ]
  },
  {
   "cell_type": "code",
   "execution_count": 16,
   "id": "85459644-7a3d-4705-9af7-280117abdf73",
   "metadata": {},
   "outputs": [],
   "source": [
    "def get_unigrams(words):\n",
    "    \"\"\"\n",
    "    Takes in a list of words and returns a series of\n",
    "    unigrams with value counts.\n",
    "    \"\"\"\n",
    "    return  pd.Series(words).value_counts()\n",
    "\n",
    "def get_bigrams(words):\n",
    "    \"\"\"\n",
    "    Takes in a list of words and returns a series of\n",
    "    bigrams with value counts.\n",
    "    \"\"\"\n",
    "    return (pd.Series(nltk.ngrams(words, 2)).value_counts())[:20]\n",
    "\n",
    "def get_trigrams(words):\n",
    "    \"\"\"\n",
    "    Takes in a list of words and returns a series of\n",
    "    trigrams with value counts.\n",
    "    \"\"\"\n",
    "    return (pd.Series(nltk.ngrams(words, 3)).value_counts())[:20]\n",
    "\n",
    "def get_qualgrams(words):\n",
    "    \"\"\"\n",
    "    Takes in a list of words and returns a series of\n",
    "    qualgrams with value counts.\n",
    "    \"\"\"\n",
    "    return (pd.Series(nltk.ngrams(words, 4)).value_counts())[:20]\n",
    "\n",
    "def get_ngrams(df,column):\n",
    "    \"\"\"\n",
    "    Takes in a dataframe with column name and generates a\n",
    "    dataframe of unigrams, bigrams, trigrams, and qualgrams.\n",
    "    \"\"\"\n",
    "    return get_bigrams(get_words(df,column)).to_frame().reset_index().rename(columns={'index':'bigram','0':'count'}), \\\n",
    "           get_trigrams(get_words(df,column)).to_frame().reset_index().rename(columns={'index':'trigram','0':'count'}), \\\n",
    "           get_qualgrams(get_words(df,column)).to_frame().reset_index().rename(columns={'index':'qualgram','0':'count'})"
   ]
  },
  {
   "cell_type": "code",
   "execution_count": 17,
   "id": "d5b19bb6-6a71-46a4-816f-265e6b757e38",
   "metadata": {},
   "outputs": [],
   "source": [
    "def viz_bigrams(df, column, title):\n",
    "    \"\"\"\n",
    "    Takes in a dataframe, target column name, and specified title\n",
    "    for the bar chart visualization of bigrams.\n",
    "    \"\"\"\n",
    "    get_bigrams(get_words(df,column)).sort_values().plot.barh(color='blue', width=.9, figsize=(12, 8))\n",
    "\n",
    "    plt.title(title)\n",
    "    plt.ylabel('Bigram')\n",
    "    plt.xlabel('# Occurances')\n",
    "\n",
    "def viz_trigrams(df, column, title):\n",
    "    \"\"\"\n",
    "    Takes in a dataframe, target column name, and specified title\n",
    "    for the bar chart visualization of trigrams.\n",
    "    \"\"\"\n",
    "    get_trigrams(get_words(df,column)).sort_values().plot.barh(color='blue', width=.9, figsize=(12, 8))\n",
    "\n",
    "    plt.title(title)\n",
    "    plt.ylabel('Trigram')\n",
    "    plt.xlabel('# Occurances')\n",
    "    \n",
    "def viz_qualgrams(df, column, title):\n",
    "    \"\"\"\n",
    "    Takes in a dataframe, target column name, and specified title\n",
    "    for the bar chart visualization of qualgrams.\n",
    "    \"\"\"\n",
    "    get_bigrams(get_words(df,column)).sort_values().plot.barh(color='blue', width=.9, figsize=(12, 8))\n",
    "\n",
    "    plt.title(title)\n",
    "    plt.ylabel('Qualgram')\n",
    "    plt.xlabel('# Occurances')"
   ]
  },
  {
   "cell_type": "code",
   "execution_count": 18,
   "id": "7c85daf4-c854-4ae9-a0a0-3dbbfdd8aed0",
   "metadata": {},
   "outputs": [
    {
     "data": {
      "image/png": "[encoded data removed]",
      "text/plain": [
       "<Figure size 1200x800 with 1 Axes>"
      ]
     },
     "metadata": {},
     "output_type": "display_data"
    }
   ],
   "source": [
    "viz_bigrams(df, 'text', 'Popular Bigrams')"
   ]
  },
  {
   "cell_type": "code",
   "execution_count": 19,
   "id": "da16e8f8-47dd-4cc0-97c0-acc5531f8f36",
   "metadata": {},
   "outputs": [
    {
     "data": {
      "image/png": "[encoded data removed]",
      "text/plain": [
       "<Figure size 1200x800 with 1 Axes>"
      ]
     },
     "metadata": {},
     "output_type": "display_data"
    }
   ],
   "source": [
    "viz_trigrams(df, 'text', 'Popular Trigrams')"
   ]
  },
  {
   "cell_type": "code",
   "execution_count": 20,
   "id": "0e39191b-33fa-4f72-a24b-f4f16181ec8d",
   "metadata": {},
   "outputs": [
    {
     "data": {
      "text/html": [
       "<div>\n",
       "<style scoped>\n",
       "    .dataframe tbody tr th:only-of-type {\n",
       "        vertical-align: middle;\n",
       "    }\n",
       "\n",
       "    .dataframe tbody tr th {\n",
       "        vertical-align: top;\n",
       "    }\n",
       "\n",
       "    .dataframe thead th {\n",
       "        text-align: right;\n",
       "    }\n",
       "</style>\n",
       "<table border=\"1\" class=\"dataframe\">\n",
       "  <thead>\n",
       "    <tr style=\"text-align: right;\">\n",
       "      <th></th>\n",
       "      <th>text</th>\n",
       "      <th>label</th>\n",
       "    </tr>\n",
       "  </thead>\n",
       "  <tbody>\n",
       "    <tr>\n",
       "      <th>0</th>\n",
       "      <td>So there is no way for me to plug it in here in the US unless I go by a converter.</td>\n",
       "      <td>0</td>\n",
       "    </tr>\n",
       "    <tr>\n",
       "      <th>1</th>\n",
       "      <td>Good case, Excellent value.</td>\n",
       "      <td>1</td>\n",
       "    </tr>\n",
       "    <tr>\n",
       "      <th>2</th>\n",
       "      <td>Great for the jawbone.</td>\n",
       "      <td>1</td>\n",
       "    </tr>\n",
       "    <tr>\n",
       "      <th>3</th>\n",
       "      <td>Tied to charger for conversations lasting more than 45 minutes.MAJOR PROBLEMS!!</td>\n",
       "      <td>0</td>\n",
       "    </tr>\n",
       "    <tr>\n",
       "      <th>4</th>\n",
       "      <td>The mic is great.</td>\n",
       "      <td>1</td>\n",
       "    </tr>\n",
       "  </tbody>\n",
       "</table>\n",
       "</div>"
      ],
      "text/plain": [
       "                                                                                 text  \\\n",
       "0  So there is no way for me to plug it in here in the US unless I go by a converter.   \n",
       "1                                                         Good case, Excellent value.   \n",
       "2                                                              Great for the jawbone.   \n",
       "3     Tied to charger for conversations lasting more than 45 minutes.MAJOR PROBLEMS!!   \n",
       "4                                                                   The mic is great.   \n",
       "\n",
       "   label  \n",
       "0      0  \n",
       "1      1  \n",
       "2      1  \n",
       "3      0  \n",
       "4      1  "
      ]
     },
     "execution_count": 20,
     "metadata": {},
     "output_type": "execute_result"
    },
    {
     "data": {
      "text/html": [
       "<div>\n",
       "<style scoped>\n",
       "    .dataframe tbody tr th:only-of-type {\n",
       "        vertical-align: middle;\n",
       "    }\n",
       "\n",
       "    .dataframe tbody tr th {\n",
       "        vertical-align: top;\n",
       "    }\n",
       "\n",
       "    .dataframe thead th {\n",
       "        text-align: right;\n",
       "    }\n",
       "</style>\n",
       "<table border=\"1\" class=\"dataframe\">\n",
       "  <thead>\n",
       "    <tr style=\"text-align: right;\">\n",
       "      <th></th>\n",
       "      <th>text</th>\n",
       "      <th>label</th>\n",
       "    </tr>\n",
       "  </thead>\n",
       "  <tbody>\n",
       "    <tr>\n",
       "      <th>2743</th>\n",
       "      <td>I think food should have flavor and texture and both were lacking.</td>\n",
       "      <td>0</td>\n",
       "    </tr>\n",
       "    <tr>\n",
       "      <th>2744</th>\n",
       "      <td>Appetite instantly gone.</td>\n",
       "      <td>0</td>\n",
       "    </tr>\n",
       "    <tr>\n",
       "      <th>2745</th>\n",
       "      <td>Overall I was not impressed and would not go back.</td>\n",
       "      <td>0</td>\n",
       "    </tr>\n",
       "    <tr>\n",
       "      <th>2746</th>\n",
       "      <td>The whole experience was underwhelming, and I think we'll just go to Ninja Sushi next time.</td>\n",
       "      <td>0</td>\n",
       "    </tr>\n",
       "    <tr>\n",
       "      <th>2747</th>\n",
       "      <td>Then, as if I hadn't wasted enough of my life there, they poured salt in the wound by drawing out the time it took to bring the check.</td>\n",
       "      <td>0</td>\n",
       "    </tr>\n",
       "  </tbody>\n",
       "</table>\n",
       "</div>"
      ],
      "text/plain": [
       "                                                                                                                                        text  \\\n",
       "2743                                                                      I think food should have flavor and texture and both were lacking.   \n",
       "2744                                                                                                                Appetite instantly gone.   \n",
       "2745                                                                                      Overall I was not impressed and would not go back.   \n",
       "2746                                             The whole experience was underwhelming, and I think we'll just go to Ninja Sushi next time.   \n",
       "2747  Then, as if I hadn't wasted enough of my life there, they poured salt in the wound by drawing out the time it took to bring the check.   \n",
       "\n",
       "      label  \n",
       "2743      0  \n",
       "2744      0  \n",
       "2745      0  \n",
       "2746      0  \n",
       "2747      0  "
      ]
     },
     "execution_count": 20,
     "metadata": {},
     "output_type": "execute_result"
    }
   ],
   "source": [
    "df.head()\n",
    "df.tail()"
   ]
  },
  {
   "cell_type": "code",
   "execution_count": 21,
   "id": "ffc3540e-f825-4c28-a1c7-7f18583b7448",
   "metadata": {},
   "outputs": [
    {
     "name": "stdout",
     "output_type": "stream",
     "text": [
      "Max sequence embedding: 8\n"
     ]
    }
   ],
   "source": [
    "max_sequence_embedding = int(round(np.sqrt(np.sqrt(vocab_size)), 0))\n",
    "print('Max sequence embedding: ' + str(max_sequence_embedding))"
   ]
  },
  {
   "cell_type": "code",
   "execution_count": 22,
   "id": "86e8fc1f-1a59-4118-bee9-6108067c57ea",
   "metadata": {},
   "outputs": [
    {
     "name": "stdout",
     "output_type": "stream",
     "text": [
      "Sequence length: 789\n"
     ]
    }
   ],
   "source": [
    "list_of_lens = []\n",
    "for index, row in df.iterrows():\n",
    "    list_of_lens.append(len(clean_sentence(row['text'])))\n",
    "sequence_length = max(list_of_lens)\n",
    "print('Sequence length: ' + str(sequence_length))"
   ]
  },
  {
   "cell_type": "code",
   "execution_count": 23,
   "id": "7f94feed-aeed-4a17-9005-f5ea0b9923ab",
   "metadata": {},
   "outputs": [
    {
     "name": "stdout",
     "output_type": "stream",
     "text": [
      "Mean sequence length: 7\n"
     ]
    }
   ],
   "source": [
    "mean_sequence_length = int(round(np.mean(list_of_lens), 0))\n",
    "print('Mean sequence length: ' + str(mean_sequence_length))"
   ]
  },
  {
   "cell_type": "markdown",
   "id": "f61a156b-205b-4e0a-acfe-7f1ff7732ff9",
   "metadata": {},
   "source": [
    "## B2.  Describe the goals of the tokenization process, including any code generated and packages that are used to normalize text during the tokenization process.\n",
    "\n",
    "One goal of tokenization process is to separate the sentences into an array of words and then to an array of numbers. In this analysis, the tokenization process also included lemmatization, removal of stopwords, normalization, encoding, decoding, removal of special characters, and capitalization."
   ]
  },
  {
   "cell_type": "code",
   "execution_count": 24,
   "id": "582f27ba-40a8-473e-9932-ee926b7dee46",
   "metadata": {},
   "outputs": [],
   "source": [
    "df['cleaned_text'] = df[\"text\"].apply(clean_sentence)"
   ]
  },
  {
   "cell_type": "code",
   "execution_count": 25,
   "id": "1ead8a6d-5ecc-41ec-8120-b3984fa42256",
   "metadata": {},
   "outputs": [
    {
     "data": {
      "text/html": [
       "<div>\n",
       "<style scoped>\n",
       "    .dataframe tbody tr th:only-of-type {\n",
       "        vertical-align: middle;\n",
       "    }\n",
       "\n",
       "    .dataframe tbody tr th {\n",
       "        vertical-align: top;\n",
       "    }\n",
       "\n",
       "    .dataframe thead th {\n",
       "        text-align: right;\n",
       "    }\n",
       "</style>\n",
       "<table border=\"1\" class=\"dataframe\">\n",
       "  <thead>\n",
       "    <tr style=\"text-align: right;\">\n",
       "      <th></th>\n",
       "      <th>text</th>\n",
       "      <th>label</th>\n",
       "      <th>cleaned_text</th>\n",
       "    </tr>\n",
       "  </thead>\n",
       "  <tbody>\n",
       "    <tr>\n",
       "      <th>0</th>\n",
       "      <td>So there is no way for me to plug it in here in the US unless I go by a converter.</td>\n",
       "      <td>0</td>\n",
       "      <td>[way, plug, u, unless, go, converter]</td>\n",
       "    </tr>\n",
       "    <tr>\n",
       "      <th>1</th>\n",
       "      <td>Good case, Excellent value.</td>\n",
       "      <td>1</td>\n",
       "      <td>[good, case, excellent, value]</td>\n",
       "    </tr>\n",
       "    <tr>\n",
       "      <th>2</th>\n",
       "      <td>Great for the jawbone.</td>\n",
       "      <td>1</td>\n",
       "      <td>[great, jawbone]</td>\n",
       "    </tr>\n",
       "    <tr>\n",
       "      <th>3</th>\n",
       "      <td>Tied to charger for conversations lasting more than 45 minutes.MAJOR PROBLEMS!!</td>\n",
       "      <td>0</td>\n",
       "      <td>[tied, charger, conversation, lasting, 45, minutesmajor, problem]</td>\n",
       "    </tr>\n",
       "    <tr>\n",
       "      <th>4</th>\n",
       "      <td>The mic is great.</td>\n",
       "      <td>1</td>\n",
       "      <td>[mic, great]</td>\n",
       "    </tr>\n",
       "  </tbody>\n",
       "</table>\n",
       "</div>"
      ],
      "text/plain": [
       "                                                                                 text  \\\n",
       "0  So there is no way for me to plug it in here in the US unless I go by a converter.   \n",
       "1                                                         Good case, Excellent value.   \n",
       "2                                                              Great for the jawbone.   \n",
       "3     Tied to charger for conversations lasting more than 45 minutes.MAJOR PROBLEMS!!   \n",
       "4                                                                   The mic is great.   \n",
       "\n",
       "   label                                                       cleaned_text  \n",
       "0      0                              [way, plug, u, unless, go, converter]  \n",
       "1      1                                     [good, case, excellent, value]  \n",
       "2      1                                                   [great, jawbone]  \n",
       "3      0  [tied, charger, conversation, lasting, 45, minutesmajor, problem]  \n",
       "4      1                                                       [mic, great]  "
      ]
     },
     "execution_count": 25,
     "metadata": {},
     "output_type": "execute_result"
    }
   ],
   "source": [
    "df.head()"
   ]
  },
  {
   "cell_type": "code",
   "execution_count": 26,
   "id": "0f0f17c1-d669-4b6e-9c40-1182265a17b2",
   "metadata": {},
   "outputs": [],
   "source": [
    "def listToString(s): \n",
    "    string = \" \"\n",
    "    return (string.join(s)) "
   ]
  },
  {
   "cell_type": "code",
   "execution_count": 27,
   "id": "76f17018-0ea5-47bf-8471-8ecd26ed4739",
   "metadata": {},
   "outputs": [],
   "source": [
    "df['super_cleaned_text'] = df['cleaned_text'].apply(listToString)"
   ]
  },
  {
   "cell_type": "code",
   "execution_count": 28,
   "id": "4012ed05-7849-4478-bacb-fc5b3decad2d",
   "metadata": {},
   "outputs": [
    {
     "data": {
      "text/html": [
       "<div>\n",
       "<style scoped>\n",
       "    .dataframe tbody tr th:only-of-type {\n",
       "        vertical-align: middle;\n",
       "    }\n",
       "\n",
       "    .dataframe tbody tr th {\n",
       "        vertical-align: top;\n",
       "    }\n",
       "\n",
       "    .dataframe thead th {\n",
       "        text-align: right;\n",
       "    }\n",
       "</style>\n",
       "<table border=\"1\" class=\"dataframe\">\n",
       "  <thead>\n",
       "    <tr style=\"text-align: right;\">\n",
       "      <th></th>\n",
       "      <th>text</th>\n",
       "      <th>label</th>\n",
       "      <th>cleaned_text</th>\n",
       "      <th>super_cleaned_text</th>\n",
       "    </tr>\n",
       "  </thead>\n",
       "  <tbody>\n",
       "    <tr>\n",
       "      <th>0</th>\n",
       "      <td>So there is no way for me to plug it in here in the US unless I go by a converter.</td>\n",
       "      <td>0</td>\n",
       "      <td>[way, plug, u, unless, go, converter]</td>\n",
       "      <td>way plug u unless go converter</td>\n",
       "    </tr>\n",
       "    <tr>\n",
       "      <th>1</th>\n",
       "      <td>Good case, Excellent value.</td>\n",
       "      <td>1</td>\n",
       "      <td>[good, case, excellent, value]</td>\n",
       "      <td>good case excellent value</td>\n",
       "    </tr>\n",
       "    <tr>\n",
       "      <th>2</th>\n",
       "      <td>Great for the jawbone.</td>\n",
       "      <td>1</td>\n",
       "      <td>[great, jawbone]</td>\n",
       "      <td>great jawbone</td>\n",
       "    </tr>\n",
       "    <tr>\n",
       "      <th>3</th>\n",
       "      <td>Tied to charger for conversations lasting more than 45 minutes.MAJOR PROBLEMS!!</td>\n",
       "      <td>0</td>\n",
       "      <td>[tied, charger, conversation, lasting, 45, minutesmajor, problem]</td>\n",
       "      <td>tied charger conversation lasting 45 minutesmajor problem</td>\n",
       "    </tr>\n",
       "    <tr>\n",
       "      <th>4</th>\n",
       "      <td>The mic is great.</td>\n",
       "      <td>1</td>\n",
       "      <td>[mic, great]</td>\n",
       "      <td>mic great</td>\n",
       "    </tr>\n",
       "  </tbody>\n",
       "</table>\n",
       "</div>"
      ],
      "text/plain": [
       "                                                                                 text  \\\n",
       "0  So there is no way for me to plug it in here in the US unless I go by a converter.   \n",
       "1                                                         Good case, Excellent value.   \n",
       "2                                                              Great for the jawbone.   \n",
       "3     Tied to charger for conversations lasting more than 45 minutes.MAJOR PROBLEMS!!   \n",
       "4                                                                   The mic is great.   \n",
       "\n",
       "   label                                                       cleaned_text  \\\n",
       "0      0                              [way, plug, u, unless, go, converter]   \n",
       "1      1                                     [good, case, excellent, value]   \n",
       "2      1                                                   [great, jawbone]   \n",
       "3      0  [tied, charger, conversation, lasting, 45, minutesmajor, problem]   \n",
       "4      1                                                       [mic, great]   \n",
       "\n",
       "                                          super_cleaned_text  \n",
       "0                             way plug u unless go converter  \n",
       "1                                  good case excellent value  \n",
       "2                                              great jawbone  \n",
       "3  tied charger conversation lasting 45 minutesmajor problem  \n",
       "4                                                  mic great  "
      ]
     },
     "execution_count": 28,
     "metadata": {},
     "output_type": "execute_result"
    }
   ],
   "source": [
    "df.head()"
   ]
  },
  {
   "cell_type": "code",
   "execution_count": 29,
   "id": "7660a4b3-14b9-4a4e-9193-2ef06d6a5a91",
   "metadata": {},
   "outputs": [],
   "source": [
    "tokenizer = Tokenizer(oov_token=\"<OOV>\")"
   ]
  },
  {
   "cell_type": "code",
   "execution_count": 30,
   "id": "575e4b29-74e2-43df-a634-ccbced639c3c",
   "metadata": {},
   "outputs": [],
   "source": [
    "split = round(len(df)*0.8)\n",
    "train_reviews = df['super_cleaned_text'][:split]\n",
    "train_label = df['label'][:split]\n",
    "test_reviews = df['super_cleaned_text'][split:]\n",
    "test_label = df['label'][split:]"
   ]
  },
  {
   "cell_type": "code",
   "execution_count": 31,
   "id": "818c4df2-b19e-4a62-be59-c7d26cb1409d",
   "metadata": {},
   "outputs": [],
   "source": [
    "training_sentences = []\n",
    "training_labels = []\n",
    "testing_sentences = []\n",
    "testing_labels = []\n",
    "\n",
    "for row in train_reviews:\n",
    "    training_sentences.append(str(row))\n",
    "for row in train_label:\n",
    "    training_labels.append(row)\n",
    "for row in test_reviews:\n",
    "    testing_sentences.append(str(row))\n",
    "for row in test_label:\n",
    "    testing_labels.append(row)"
   ]
  },
  {
   "cell_type": "code",
   "execution_count": 32,
   "id": "b6e75bac-d987-4f84-be1e-739e4390d509",
   "metadata": {},
   "outputs": [],
   "source": [
    "vocab_size = 4967\n",
    "embedding_dim = 8\n",
    "max_length = 78\n",
    "trunc_type = 'post'\n",
    "oov_tok = '<OOV>'\n",
    "padding_type = 'post'"
   ]
  },
  {
   "cell_type": "code",
   "execution_count": 33,
   "id": "912e8783-7671-4030-be52-1e40317f63a5",
   "metadata": {},
   "outputs": [],
   "source": [
    "tokenizer = Tokenizer(num_words=vocab_size, oov_token=oov_tok)\n",
    "tokenizer.fit_on_texts(training_sentences)\n",
    "word_index = tokenizer.word_index"
   ]
  },
  {
   "cell_type": "markdown",
   "id": "e4d1cc40-9db4-4139-88ad-ea936c0f5155",
   "metadata": {},
   "source": [
    "## B3.  Explain the padding process used to standardize the length of sequences. Include the following in your explanation:\n",
    "\n",
    "- if the padding occurs before or after the text sequence\n",
    "- a screenshot of a single padded sequence\n",
    "\n",
    "The padding is based on the \"max_length\" variable and occurs before the text sequence."
   ]
  },
  {
   "cell_type": "code",
   "execution_count": 34,
   "id": "b744db31-cbf6-47b3-ba2b-34baad104608",
   "metadata": {},
   "outputs": [],
   "source": [
    "sequences = tokenizer.texts_to_sequences(training_sentences)\n",
    "padded = pad_sequences(sequences, maxlen=max_length, truncating=trunc_type)\n",
    "testing_sentences = tokenizer.texts_to_sequences(testing_sentences)\n",
    "testing_padded = pad_sequences(testing_sentences, maxlen=max_length)"
   ]
  },
  {
   "cell_type": "code",
   "execution_count": 35,
   "id": "9178ad87-f416-4759-86ba-e77cf54e5ad5",
   "metadata": {},
   "outputs": [
    {
     "data": {
      "text/plain": [
       "array([[  0,   0,   0,   0,   0,   0,   0,   0,   0,   0,   0,   0,   0,\n",
       "          0,   0,   0,   0,   0,   0,   0,   0,   0,   0,   0,   0,   0,\n",
       "          0,   0,   0,   0,   0,   0,   0,   0,   0,   0,   0,   0,   0,\n",
       "          0,   0,   0,   0,   0,   0,   0,   0,   0,   0,   0,   0,   0,\n",
       "          0,   0,   0,   0,   0,   0,   0,   0,   0,   0,   0,   0,   0,\n",
       "          0,   0,   0,   0,   0,   0,  16,  55,  15, 109,  47,   1, 717]])"
      ]
     },
     "execution_count": 35,
     "metadata": {},
     "output_type": "execute_result"
    }
   ],
   "source": [
    "testing_padded[:1]"
   ]
  },
  {
   "cell_type": "markdown",
   "id": "d799e5cc-a891-4d8b-9ef4-5493b8a4dc93",
   "metadata": {},
   "source": [
    "## B4.  Identify how many categories of sentiment will be used and an activation function for the final dense layer of the network.\n",
    "\n",
    "Two categories of sentiment (positive or negative) will be used with an activation function of \"sigmoid\" for the final dense layer of the network."
   ]
  },
  {
   "cell_type": "code",
   "execution_count": 36,
   "id": "4631a74e-6cc4-46db-bf75-402e7ef1526b",
   "metadata": {},
   "outputs": [],
   "source": [
    "model = tf.keras.Sequential([\n",
    "    tf.keras.layers.Embedding(vocab_size, embedding_dim, input_length=max_length),\n",
    "    tf.keras.layers.Bidirectional(tf.keras.layers.LSTM(32, dropout=0.2)),\n",
    "    tf.keras.layers.Dense(24, activation='relu'),\n",
    "    tf.keras.layers.Dense(12, activation='relu'),\n",
    "    tf.keras.layers.Dense(1, activation='sigmoid')\n",
    "])"
   ]
  },
  {
   "cell_type": "code",
   "execution_count": 37,
   "id": "59b80bc7-2d1c-43be-aceb-d60a4395bda1",
   "metadata": {},
   "outputs": [],
   "source": [
    "model.compile(loss='binary_crossentropy', optimizer='adam', metrics=['accuracy'])"
   ]
  },
  {
   "cell_type": "code",
   "execution_count": 38,
   "id": "cbdf09dd-9f3e-4dc8-b9c5-6e1afc161546",
   "metadata": {},
   "outputs": [],
   "source": [
    "training_labels_final = np.array(training_labels)\n",
    "testing_labels_final = np.array(testing_labels)"
   ]
  },
  {
   "cell_type": "code",
   "execution_count": 39,
   "id": "a913b921-6e61-42fc-b986-d217c4d64554",
   "metadata": {},
   "outputs": [],
   "source": [
    "early_stopping_monitor = tf.keras.callbacks.EarlyStopping(monitor='val_loss', mode=\"min\", patience=2)"
   ]
  },
  {
   "cell_type": "code",
   "execution_count": 40,
   "id": "0f195191-4bce-4291-9e81-2bda58626f3d",
   "metadata": {},
   "outputs": [
    {
     "name": "stdout",
     "output_type": "stream",
     "text": [
      "Epoch 1/20\n",
      "69/69 [==============================] - 5s 27ms/step - loss: 0.6931 - accuracy: 0.5118 - val_loss: 0.6945 - val_accuracy: 0.4527\n",
      "Epoch 2/20\n",
      "69/69 [==============================] - 1s 18ms/step - loss: 0.6551 - accuracy: 0.6347 - val_loss: 0.5769 - val_accuracy: 0.7564\n",
      "Epoch 3/20\n",
      "69/69 [==============================] - 1s 18ms/step - loss: 0.3884 - accuracy: 0.8412 - val_loss: 0.4587 - val_accuracy: 0.8036\n",
      "Epoch 4/20\n",
      "69/69 [==============================] - 1s 18ms/step - loss: 0.2299 - accuracy: 0.9131 - val_loss: 0.5309 - val_accuracy: 0.7509\n",
      "Epoch 5/20\n",
      "69/69 [==============================] - 1s 18ms/step - loss: 0.1519 - accuracy: 0.9449 - val_loss: 0.5571 - val_accuracy: 0.7655\n"
     ]
    }
   ],
   "source": [
    "num_epochs = 20\n",
    "history = model.fit(padded, training_labels_final, epochs=num_epochs, callbacks=[early_stopping_monitor], validation_data=(testing_padded, testing_labels_final))"
   ]
  },
  {
   "cell_type": "code",
   "execution_count": 41,
   "id": "6c8e7e6c-965f-42eb-ab77-0d4ef8c7c7a7",
   "metadata": {},
   "outputs": [
    {
     "data": {
      "text/plain": [
       "[<matplotlib.lines.Line2D at 0x1ec883b93a0>,\n",
       " <matplotlib.lines.Line2D at 0x1ec883ac370>]"
      ]
     },
     "execution_count": 41,
     "metadata": {},
     "output_type": "execute_result"
    },
    {
     "data": {
      "text/plain": [
       "[<matplotlib.lines.Line2D at 0x1ec883b9a30>,\n",
       " <matplotlib.lines.Line2D at 0x1ec883b9a60>]"
      ]
     },
     "execution_count": 41,
     "metadata": {},
     "output_type": "execute_result"
    },
    {
     "data": {
      "text/plain": [
       "<matplotlib.legend.Legend at 0x1ec883b9820>"
      ]
     },
     "execution_count": 41,
     "metadata": {},
     "output_type": "execute_result"
    },
    {
     "data": {
      "text/plain": [
       "Text(0.5, 1.0, 'Training and validation accuracy')"
      ]
     },
     "execution_count": 41,
     "metadata": {},
     "output_type": "execute_result"
    },
    {
     "data": {
      "text/plain": [
       "<Figure size 640x480 with 0 Axes>"
      ]
     },
     "execution_count": 41,
     "metadata": {},
     "output_type": "execute_result"
    },
    {
     "data": {
      "text/plain": [
       "[<matplotlib.lines.Line2D at 0x1ec8840c730>,\n",
       " <matplotlib.lines.Line2D at 0x1ec8840c910>]"
      ]
     },
     "execution_count": 41,
     "metadata": {},
     "output_type": "execute_result"
    },
    {
     "data": {
      "text/plain": [
       "[<matplotlib.lines.Line2D at 0x1ec8840cca0>,\n",
       " <matplotlib.lines.Line2D at 0x1ec8840cc10>]"
      ]
     },
     "execution_count": 41,
     "metadata": {},
     "output_type": "execute_result"
    },
    {
     "data": {
      "text/plain": [
       "Text(0.5, 1.0, 'Training and validation loss')"
      ]
     },
     "execution_count": 41,
     "metadata": {},
     "output_type": "execute_result"
    },
    {
     "data": {
      "text/plain": [
       "<matplotlib.legend.Legend at 0x1ec883e9c10>"
      ]
     },
     "execution_count": 41,
     "metadata": {},
     "output_type": "execute_result"
    },
    {
     "data": {
      "text/plain": [
       "<Figure size 640x480 with 0 Axes>"
      ]
     },
     "execution_count": 41,
     "metadata": {},
     "output_type": "execute_result"
    },
    {
     "data": {
      "image/png": "[encoded data removed]",
      "text/plain": [
       "<Figure size 640x480 with 1 Axes>"
      ]
     },
     "metadata": {},
     "output_type": "display_data"
    },
    {
     "data": {
      "image/png": "[encoded data removed]",
      "text/plain": [
       "<Figure size 640x480 with 1 Axes>"
      ]
     },
     "metadata": {},
     "output_type": "display_data"
    },
    {
     "data": {
      "text/plain": [
       "<Figure size 640x480 with 0 Axes>"
      ]
     },
     "metadata": {},
     "output_type": "display_data"
    }
   ],
   "source": [
    "%matplotlib inline\n",
    "import matplotlib.pyplot as plt\n",
    "import matplotlib.image as mpimg\n",
    "acc = history.history['accuracy']\n",
    "val_acc = history.history['val_accuracy']\n",
    "loss = history.history['loss']\n",
    "val_loss = history.history['val_loss']\n",
    "epochs=range(len(acc))\n",
    "plt.plot(epochs, acc, 'r', 'Training Accuracy', label=\"Training\")\n",
    "plt.plot(epochs, val_acc, 'b', 'Validation Accuracy', label=\"Validation\")\n",
    "plt.legend([\"Training\", \"Validation\"], fontsize=\"small\", loc=\"lower right\")\n",
    "plt.title('Training and validation accuracy')\n",
    "plt.figure()\n",
    "plt.plot(epochs, loss, 'r', 'Training Loss')\n",
    "plt.plot(epochs, val_loss, 'b', 'Validation Loss')\n",
    "plt.title('Training and validation loss')\n",
    "plt.legend([\"Training\", \"Validation\"], fontsize=\"small\", loc=\"lower right\")\n",
    "plt.figure()"
   ]
  },
  {
   "cell_type": "markdown",
   "id": "e88c6793-401f-418b-a15a-7d02fa2bede5",
   "metadata": {},
   "source": [
    "## B5. Explain the steps used to prepare the data for analysis, including the size of the training, validation, and test set split (based on the industry average).\n",
    "\n",
    "The following are the steps taken to prepare the data for sentiment analysis:\n",
    "\n",
    "- combine data into  one dataframe using pd.concat()\n",
    "- reset the index\n",
    "- stopwords\n",
    "- lemmatization\n",
    "- normalization\n",
    "- removal of special characters\n",
    "\n",
    "Afterwards, the data set was split into train and test. The ratio used were 0.8 for the train set and 0.2 for the test set.\n",
    "\n",
    "## B6. Provide a copy of the prepared data set."
   ]
  },
  {
   "cell_type": "code",
   "execution_count": 42,
   "id": "185aebb4-eefd-4654-a3ef-ef9dba30ad9e",
   "metadata": {},
   "outputs": [],
   "source": [
    "# create dataframes of the prepared data set for export\n",
    "df_X_training = pd.DataFrame(padded)\n",
    "df_X_testing = pd.DataFrame(testing_padded)\n",
    "df_y_training = pd.DataFrame(training_labels)\n",
    "df_y_testing = pd.DataFrame(testing_labels)\n",
    "\n",
    "# save the prepared data set\n",
    "df_X_training.to_csv('../data/df_X_training.csv', index=False)\n",
    "df_X_testing.to_csv('../data/df_X_testing.csv', index=False)\n",
    "df_y_training.to_csv('../data/df_y_training.csv', index=False)\n",
    "df_y_testing.to_csv('../data/df_y_testing.csv', index=False)"
   ]
  },
  {
   "cell_type": "markdown",
   "id": "fa2ed0ec-31ff-4272-9dd0-317779796f6c",
   "metadata": {},
   "source": [
    "# Part III. Network Architecture\n",
    "\n",
    "## C1. Provide the output of the model summary of the function from TensorFlow."
   ]
  },
  {
   "cell_type": "code",
   "execution_count": 43,
   "id": "305ae352-ed8a-4e94-b314-fcd01537f783",
   "metadata": {},
   "outputs": [
    {
     "name": "stdout",
     "output_type": "stream",
     "text": [
      "Model: \"sequential\"\n",
      "_________________________________________________________________\n",
      " Layer (type)                Output Shape              Param #   \n",
      "=================================================================\n",
      " embedding (Embedding)       (None, 78, 8)             39736     \n",
      "                                                                 \n",
      " bidirectional (Bidirection  (None, 64)                10496     \n",
      " al)                                                             \n",
      "                                                                 \n",
      " dense (Dense)               (None, 24)                1560      \n",
      "                                                                 \n",
      " dense_1 (Dense)             (None, 12)                300       \n",
      "                                                                 \n",
      " dense_2 (Dense)             (None, 1)                 13        \n",
      "                                                                 \n",
      "=================================================================\n",
      "Total params: 52105 (203.54 KB)\n",
      "Trainable params: 52105 (203.54 KB)\n",
      "Non-trainable params: 0 (0.00 Byte)\n",
      "_________________________________________________________________\n"
     ]
    }
   ],
   "source": [
    "model.summary()"
   ]
  },
  {
   "cell_type": "markdown",
   "id": "af7e8c22-8137-43ea-903d-039c9e310d6a",
   "metadata": {},
   "source": [
    "## C2. Discuss the number of layers, the type of layers, and the total number of parameters.\n",
    "\n",
    "The final model has 5 layers and a  total parameters of 61,833. There's three dense layers, one embedding, and one bidirectional.\n",
    "\n",
    "## C3. Justify the choice of hyperparameters, including the following elements:\n",
    "\n",
    "- activation functions: The rectified linear unit or ReLU function because it \"is trivial to implement, requiring only a max() function\" (Krishnamurthy, 2022). For the last layer, we used the sigmoid activation function because our sentiment analysis is a binary classification problem. \n",
    "- number of nodes per layer: The number of nodes per layer were selected through \"systematic experimentation\" as described by Brownlee in 2019.\n",
    "- loss function: The binary_crossentropy was used because this particular classification problem is a binary one.\n",
    "- optimizer: The optimizer used is Adam (Adaptive Moment Estimation) which \"can be viewed as a fusion of momentum-based stochastic gradient descent and RMSprop\" (Aayushmohansinha, n.d.).\n",
    "- stopping criteria: The monitor used is val_loss because minimizing loss is better for this analysis.\n",
    "- evaluation metric: For this analysis, accuracy was used to evaluate the model. It was chosen for simplicity and intuitiveness.\n",
    "\n",
    "# Part IV: Model Evaluation\n",
    "\n",
    "## D1. Discuss the impact of using stopping criteria to include defining the number of epochs, including a screenshot showing the final training epoch.\n",
    "\n",
    "Instead of training up to 20 epochs, the early_stopping hyper parameter enabled training to stop at epoch number 5.\n",
    "\n",
    "Epoch 5/20\n",
    "69/69 [==============================] - 1s 18ms/step - loss: 0.1615 - accuracy: 0.9395 - val_loss: 0.5453 - val_accuracy: 0.7909\n",
    "\n",
    "## D2. Assess the fitness of the model and any actions taken to address overfitting.\n",
    "\n",
    "The model shows some overfitting. Changes such as adding a layer and adjusting hyperparameters were attemped but yielded no siginicant change in accuracy. Adding a dropout layer was attempted but did not affect significant change in accuracy.\n",
    "\n",
    "## D3. Provide visualizations of the model’s training process, including a line graph of the loss and chosen evaluation metric.\n",
    "\n",
    "The line graph of the accuracy and loss are displayed as the output of cell 41.\n",
    "\n",
    "## D4.  Discuss the predictive accuracy of the trained network using the chosen evaluation metric from part D3.\n",
    "\n",
    "The final model yielded 93.95% accuracy on the testing data.\n",
    "\n",
    "# Part V. Summary and Recommendations\n",
    "\n",
    "## E. Provide the code you used to save the trained network within the neural network.\n",
    "\n",
    "Filename: \"D213 Performance Assessment Task 2 (Rev. 0).ipynb\"\n",
    "\n",
    "## F. Discuss the functionality of your neural network, including the impact of the network architecture.\n",
    "\n",
    "A lot of hyperparameter tuning were attempted but in the end, the simplest of models yielded the best result. Even then, the final model showed evidence of overfitting so the impact of this model design is inconsequential.\n",
    "\n",
    "## G. Recommend a course of action based on your results.\n",
    "\n",
    "First and foremmost, increase the size of the training data set.  Second, use SOTA packages and libraries instead of relying on a neural network to perform the sentiment analysis.\n",
    "\n",
    "# Part VI. Reporting\n",
    "\n",
    "## H. Show your neural network in an industry-relevant interactive development environment (e.g., a Jupyter Notebook). Include a PDF or HTML document of your executed notebook presentation.\n",
    "\n",
    "- Filename: \"D213 Performance Assessment Task 2 (Rev. 0).pdf\"\n",
    "\n",
    "\n",
    "## I. Denote specific web sources you used to acquire segments of third-party code that was used to support the application.\n",
    "\n",
    "- https://github.com/ecdedios/code-snippets/blob/main/notebooks/master.ipynb\n",
    "- https://stackoverflow.com/questions/27084617/detect-strings-with-non-english-characters-in-python\n",
    "- https://towardsdatascience.com/a-complete-step-by-step-tutorial-on-sentiment-analysis-in-keras-and-tensorflow-ea420cc8913f\n",
    "- https://favtutor.com/blogs/list-to-string-python\n",
    "- https://medium.com/aubergine-solutions/scratching-surface-of-rnn-gru-and-lstm-with-example-of-sentiment-analysis-8dd4e748d426\n",
    "\n",
    "## J. Acknowledge sources, using in-text citations and references, for content that is quoted, paraphrased, or summarized.\n",
    "\n",
    "- https://archive.ics.uci.edu/dataset/331/sentiment+labelled+sentences\n",
    "- https://builtin.com/machine-learning/relu-activation-function\n",
    "- https://machinelearningmastery.com/how-to-configure-the-number-of-layers-and-nodes-in-a-neural-network\n",
    "- https://www.geeksforgeeks.org/adam-optimizer-in-tensorflow/"
   ]
  },
  {
   "cell_type": "code",
   "execution_count": 44,
   "id": "2ffe4928-4e84-429f-8d6c-95a583a78f94",
   "metadata": {},
   "outputs": [
    {
     "name": "stdout",
     "output_type": "stream",
     "text": [
      "Succesful run!\n"
     ]
    }
   ],
   "source": [
    "print('Succesful run!')"
   ]
  }
 ],
 "metadata": {
  "kernelspec": {
   "display_name": "Python 3 (ipykernel)",
   "language": "python",
   "name": "python3"
  },
  "language_info": {
   "codemirror_mode": {
    "name": "ipython",
    "version": 3
   },
   "file_extension": ".py",
   "mimetype": "text/x-python",
   "name": "python",
   "nbconvert_exporter": "python",
   "pygments_lexer": "ipython3",
   "version": "3.9.9"
  }
 },
 "nbformat": 4,
 "nbformat_minor": 5
}
